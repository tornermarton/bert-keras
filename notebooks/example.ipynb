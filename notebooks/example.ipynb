{
 "cells": [
  {
   "cell_type": "code",
   "execution_count": null,
   "metadata": {
    "collapsed": true
   },
   "outputs": [],
   "source": [
    "import numpy as np\n",
    "\n",
    "from bert import BertEncoder, InputExample\n",
    "\n",
    "examples = np.empty([1], dtype=InputExample)\n",
    "examples[0] = InputExample(\n",
    "    text_a=\"Hurricane Patricia was the most intense tropical cyclone on record worldwide in terms of wind speed and the second-most intense on record worldwide in terms of pressure, behind Typhoon Tip in 1979, with a minimum atmospheric pressure of 872 mbar. Originating from a sprawling disturbance near the Gulf of Tehuantepec, south of Mexico, in mid-October 2015, Patricia was first classified a tropical depression on October 20. \",\n",
    "    text_b=\"Initial development was slow, with only modest strengthening within the first day of its classification. The system later became a tropical storm and was named Patricia, the twenty-fourth named storm of the annual hurricane season. Exceptionally favorable environmental conditions fueled explosive intensification on October 22.\"\n",
    ")\n",
    "\n",
    "enc = BertEncoder()\n",
    "\n",
    "embeddings = enc.calculate_embeddings(examples)\n",
    "\n",
    "print(embeddings[0].shape)\n",
    "\n",
    "print(embeddings[0])"
   ]
  }
 ],
 "metadata": {
  "kernelspec": {
   "display_name": "Python 2",
   "language": "python",
   "name": "python2"
  },
  "language_info": {
   "codemirror_mode": {
    "name": "ipython",
    "version": 2
   },
   "file_extension": ".py",
   "mimetype": "text/x-python",
   "name": "python",
   "nbconvert_exporter": "python",
   "pygments_lexer": "ipython2",
   "version": "2.7.6"
  }
 },
 "nbformat": 4,
 "nbformat_minor": 0
}
